{
 "cells": [
  {
   "cell_type": "code",
   "execution_count": 1,
   "metadata": {
    "pycharm": {
     "is_executing": false
    }
   },
   "outputs": [
    {
     "data": {
      "text/plain": "               Province/State         Country        Lat       Long  1/22/20  \\\n0                         NaN     Afghanistan  33.000000  65.000000        0   \n1                         NaN         Albania  41.153300  20.168300        0   \n2                         NaN         Algeria  28.033900   1.659600        0   \n3                         NaN         Andorra  42.506300   1.521800        0   \n4                         NaN          Angola -11.202700  17.873900        0   \n..                        ...             ...        ...        ...      ...   \n251  Turks and Caicos Islands  United Kingdom  21.694000 -71.797900        0   \n252                       NaN      MS Zaandam   0.000000   0.000000        0   \n253                       NaN        Botswana -22.328500  24.684900        0   \n254                       NaN         Burundi  -3.373100  29.918900        0   \n255                       NaN    Sierra Leone   8.460555 -11.779889        0   \n\n     1/23/20  1/24/20  1/25/20  1/26/20  1/27/20  ...  3/22/20  3/23/20  \\\n0          0        0        0        0        0  ...        1        1   \n1          0        0        0        0        0  ...        2        4   \n2          0        0        0        0        0  ...       17       17   \n3          0        0        0        0        0  ...        1        1   \n4          0        0        0        0        0  ...        0        0   \n..       ...      ...      ...      ...      ...  ...      ...      ...   \n251        0        0        0        0        0  ...        0        0   \n252        0        0        0        0        0  ...        0        0   \n253        0        0        0        0        0  ...        0        0   \n254        0        0        0        0        0  ...        0        0   \n255        0        0        0        0        0  ...        0        0   \n\n     3/24/20  3/25/20  3/26/20  3/27/20  3/28/20  3/29/20  3/30/20  3/31/20  \n0          1        2        4        4        4        4        4        4  \n1          5        5        6        8       10       10       11       15  \n2         19       21       25       26       29       31       35       44  \n3          1        1        3        3        3        6        8       12  \n4          0        0        0        0        0        2        2        2  \n..       ...      ...      ...      ...      ...      ...      ...      ...  \n251        0        0        0        0        0        0        0        0  \n252        0        0        0        0        0        0        0        0  \n253        0        0        0        0        0        0        0        1  \n254        0        0        0        0        0        0        0        0  \n255        0        0        0        0        0        0        0        0  \n\n[256 rows x 74 columns]",
      "text/html": "<div>\n<style scoped>\n    .dataframe tbody tr th:only-of-type {\n        vertical-align: middle;\n    }\n\n    .dataframe tbody tr th {\n        vertical-align: top;\n    }\n\n    .dataframe thead th {\n        text-align: right;\n    }\n</style>\n<table border=\"1\" class=\"dataframe\">\n  <thead>\n    <tr style=\"text-align: right;\">\n      <th></th>\n      <th>Province/State</th>\n      <th>Country</th>\n      <th>Lat</th>\n      <th>Long</th>\n      <th>1/22/20</th>\n      <th>1/23/20</th>\n      <th>1/24/20</th>\n      <th>1/25/20</th>\n      <th>1/26/20</th>\n      <th>1/27/20</th>\n      <th>...</th>\n      <th>3/22/20</th>\n      <th>3/23/20</th>\n      <th>3/24/20</th>\n      <th>3/25/20</th>\n      <th>3/26/20</th>\n      <th>3/27/20</th>\n      <th>3/28/20</th>\n      <th>3/29/20</th>\n      <th>3/30/20</th>\n      <th>3/31/20</th>\n    </tr>\n  </thead>\n  <tbody>\n    <tr>\n      <th>0</th>\n      <td>NaN</td>\n      <td>Afghanistan</td>\n      <td>33.000000</td>\n      <td>65.000000</td>\n      <td>0</td>\n      <td>0</td>\n      <td>0</td>\n      <td>0</td>\n      <td>0</td>\n      <td>0</td>\n      <td>...</td>\n      <td>1</td>\n      <td>1</td>\n      <td>1</td>\n      <td>2</td>\n      <td>4</td>\n      <td>4</td>\n      <td>4</td>\n      <td>4</td>\n      <td>4</td>\n      <td>4</td>\n    </tr>\n    <tr>\n      <th>1</th>\n      <td>NaN</td>\n      <td>Albania</td>\n      <td>41.153300</td>\n      <td>20.168300</td>\n      <td>0</td>\n      <td>0</td>\n      <td>0</td>\n      <td>0</td>\n      <td>0</td>\n      <td>0</td>\n      <td>...</td>\n      <td>2</td>\n      <td>4</td>\n      <td>5</td>\n      <td>5</td>\n      <td>6</td>\n      <td>8</td>\n      <td>10</td>\n      <td>10</td>\n      <td>11</td>\n      <td>15</td>\n    </tr>\n    <tr>\n      <th>2</th>\n      <td>NaN</td>\n      <td>Algeria</td>\n      <td>28.033900</td>\n      <td>1.659600</td>\n      <td>0</td>\n      <td>0</td>\n      <td>0</td>\n      <td>0</td>\n      <td>0</td>\n      <td>0</td>\n      <td>...</td>\n      <td>17</td>\n      <td>17</td>\n      <td>19</td>\n      <td>21</td>\n      <td>25</td>\n      <td>26</td>\n      <td>29</td>\n      <td>31</td>\n      <td>35</td>\n      <td>44</td>\n    </tr>\n    <tr>\n      <th>3</th>\n      <td>NaN</td>\n      <td>Andorra</td>\n      <td>42.506300</td>\n      <td>1.521800</td>\n      <td>0</td>\n      <td>0</td>\n      <td>0</td>\n      <td>0</td>\n      <td>0</td>\n      <td>0</td>\n      <td>...</td>\n      <td>1</td>\n      <td>1</td>\n      <td>1</td>\n      <td>1</td>\n      <td>3</td>\n      <td>3</td>\n      <td>3</td>\n      <td>6</td>\n      <td>8</td>\n      <td>12</td>\n    </tr>\n    <tr>\n      <th>4</th>\n      <td>NaN</td>\n      <td>Angola</td>\n      <td>-11.202700</td>\n      <td>17.873900</td>\n      <td>0</td>\n      <td>0</td>\n      <td>0</td>\n      <td>0</td>\n      <td>0</td>\n      <td>0</td>\n      <td>...</td>\n      <td>0</td>\n      <td>0</td>\n      <td>0</td>\n      <td>0</td>\n      <td>0</td>\n      <td>0</td>\n      <td>0</td>\n      <td>2</td>\n      <td>2</td>\n      <td>2</td>\n    </tr>\n    <tr>\n      <th>...</th>\n      <td>...</td>\n      <td>...</td>\n      <td>...</td>\n      <td>...</td>\n      <td>...</td>\n      <td>...</td>\n      <td>...</td>\n      <td>...</td>\n      <td>...</td>\n      <td>...</td>\n      <td>...</td>\n      <td>...</td>\n      <td>...</td>\n      <td>...</td>\n      <td>...</td>\n      <td>...</td>\n      <td>...</td>\n      <td>...</td>\n      <td>...</td>\n      <td>...</td>\n      <td>...</td>\n    </tr>\n    <tr>\n      <th>251</th>\n      <td>Turks and Caicos Islands</td>\n      <td>United Kingdom</td>\n      <td>21.694000</td>\n      <td>-71.797900</td>\n      <td>0</td>\n      <td>0</td>\n      <td>0</td>\n      <td>0</td>\n      <td>0</td>\n      <td>0</td>\n      <td>...</td>\n      <td>0</td>\n      <td>0</td>\n      <td>0</td>\n      <td>0</td>\n      <td>0</td>\n      <td>0</td>\n      <td>0</td>\n      <td>0</td>\n      <td>0</td>\n      <td>0</td>\n    </tr>\n    <tr>\n      <th>252</th>\n      <td>NaN</td>\n      <td>MS Zaandam</td>\n      <td>0.000000</td>\n      <td>0.000000</td>\n      <td>0</td>\n      <td>0</td>\n      <td>0</td>\n      <td>0</td>\n      <td>0</td>\n      <td>0</td>\n      <td>...</td>\n      <td>0</td>\n      <td>0</td>\n      <td>0</td>\n      <td>0</td>\n      <td>0</td>\n      <td>0</td>\n      <td>0</td>\n      <td>0</td>\n      <td>0</td>\n      <td>0</td>\n    </tr>\n    <tr>\n      <th>253</th>\n      <td>NaN</td>\n      <td>Botswana</td>\n      <td>-22.328500</td>\n      <td>24.684900</td>\n      <td>0</td>\n      <td>0</td>\n      <td>0</td>\n      <td>0</td>\n      <td>0</td>\n      <td>0</td>\n      <td>...</td>\n      <td>0</td>\n      <td>0</td>\n      <td>0</td>\n      <td>0</td>\n      <td>0</td>\n      <td>0</td>\n      <td>0</td>\n      <td>0</td>\n      <td>0</td>\n      <td>1</td>\n    </tr>\n    <tr>\n      <th>254</th>\n      <td>NaN</td>\n      <td>Burundi</td>\n      <td>-3.373100</td>\n      <td>29.918900</td>\n      <td>0</td>\n      <td>0</td>\n      <td>0</td>\n      <td>0</td>\n      <td>0</td>\n      <td>0</td>\n      <td>...</td>\n      <td>0</td>\n      <td>0</td>\n      <td>0</td>\n      <td>0</td>\n      <td>0</td>\n      <td>0</td>\n      <td>0</td>\n      <td>0</td>\n      <td>0</td>\n      <td>0</td>\n    </tr>\n    <tr>\n      <th>255</th>\n      <td>NaN</td>\n      <td>Sierra Leone</td>\n      <td>8.460555</td>\n      <td>-11.779889</td>\n      <td>0</td>\n      <td>0</td>\n      <td>0</td>\n      <td>0</td>\n      <td>0</td>\n      <td>0</td>\n      <td>...</td>\n      <td>0</td>\n      <td>0</td>\n      <td>0</td>\n      <td>0</td>\n      <td>0</td>\n      <td>0</td>\n      <td>0</td>\n      <td>0</td>\n      <td>0</td>\n      <td>0</td>\n    </tr>\n  </tbody>\n</table>\n<p>256 rows × 74 columns</p>\n</div>"
     },
     "metadata": {},
     "output_type": "execute_result",
     "execution_count": 1
    }
   ],
   "source": [
    "import pandas as pd \n",
    "\n",
    "countries = [   'China', 'Italy', 'Iran', 'Spain',\n",
    "                'Germany', 'US', 'France', 'Korea, South',\n",
    "                'Switzerland', 'United Kingdom', 'Portugal'\n",
    "            ]\n",
    "countries2 = [  'China', 'Italy', 'Iran', 'Spain',\n",
    "                'Germany', 'USA', 'France', 'S. Korea',\n",
    "                'Switzerland', 'UK', 'Portugal'\n",
    "            ]\n",
    "\n",
    "\n",
    "deaths = pd.read_csv('covid_deaths.csv').rename(columns={\"Country/Region\": \"Country\"})#.rename(columns={\"Country/Region\": \"Country\"})\n",
    "deaths"
   ]
  },
  {
   "cell_type": "code",
   "execution_count": 2,
   "metadata": {
    "pycharm": {
     "is_executing": false
    }
   },
   "outputs": [
    {
     "data": {
      "text/plain": "               Province/State         Country        Lat       Long  1/22/20  \\\n0                         NaN     Afghanistan  33.000000  65.000000        0   \n1                         NaN         Albania  41.153300  20.168300        0   \n2                         NaN         Algeria  28.033900   1.659600        0   \n3                         NaN         Andorra  42.506300   1.521800        0   \n4                         NaN          Angola -11.202700  17.873900        0   \n..                        ...             ...        ...        ...      ...   \n251  Turks and Caicos Islands  United Kingdom  21.694000 -71.797900        0   \n252                       NaN      MS Zaandam   0.000000   0.000000        0   \n253                       NaN        Botswana -22.328500  24.684900        0   \n254                       NaN         Burundi  -3.373100  29.918900        0   \n255                       NaN    Sierra Leone   8.460555 -11.779889        0   \n\n     1/23/20  1/24/20  1/25/20  1/26/20  1/27/20  ...  3/22/20  3/23/20  \\\n0          0        0        0        0        0  ...       40       40   \n1          0        0        0        0        0  ...       89      104   \n2          0        0        0        0        0  ...      201      230   \n3          0        0        0        0        0  ...      113      133   \n4          0        0        0        0        0  ...        2        3   \n..       ...      ...      ...      ...      ...  ...      ...      ...   \n251        0        0        0        0        0  ...        0        0   \n252        0        0        0        0        0  ...        0        0   \n253        0        0        0        0        0  ...        0        0   \n254        0        0        0        0        0  ...        0        0   \n255        0        0        0        0        0  ...        0        0   \n\n     3/24/20  3/25/20  3/26/20  3/27/20  3/28/20  3/29/20  3/30/20  3/31/20  \n0         74       84       94      110      110      120      170      174  \n1        123      146      174      186      197      212      223      243  \n2        264      302      367      409      454      511      584      716  \n3        164      188      224      267      308      334      370      376  \n4          3        3        4        4        5        7        7        7  \n..       ...      ...      ...      ...      ...      ...      ...      ...  \n251        0        0        0        0        4        4        5        5  \n252        0        0        0        0        2        2        2        2  \n253        0        0        0        0        0        0        3        4  \n254        0        0        0        0        0        0        0        2  \n255        0        0        0        0        0        0        0        1  \n\n[256 rows x 74 columns]",
      "text/html": "<div>\n<style scoped>\n    .dataframe tbody tr th:only-of-type {\n        vertical-align: middle;\n    }\n\n    .dataframe tbody tr th {\n        vertical-align: top;\n    }\n\n    .dataframe thead th {\n        text-align: right;\n    }\n</style>\n<table border=\"1\" class=\"dataframe\">\n  <thead>\n    <tr style=\"text-align: right;\">\n      <th></th>\n      <th>Province/State</th>\n      <th>Country</th>\n      <th>Lat</th>\n      <th>Long</th>\n      <th>1/22/20</th>\n      <th>1/23/20</th>\n      <th>1/24/20</th>\n      <th>1/25/20</th>\n      <th>1/26/20</th>\n      <th>1/27/20</th>\n      <th>...</th>\n      <th>3/22/20</th>\n      <th>3/23/20</th>\n      <th>3/24/20</th>\n      <th>3/25/20</th>\n      <th>3/26/20</th>\n      <th>3/27/20</th>\n      <th>3/28/20</th>\n      <th>3/29/20</th>\n      <th>3/30/20</th>\n      <th>3/31/20</th>\n    </tr>\n  </thead>\n  <tbody>\n    <tr>\n      <th>0</th>\n      <td>NaN</td>\n      <td>Afghanistan</td>\n      <td>33.000000</td>\n      <td>65.000000</td>\n      <td>0</td>\n      <td>0</td>\n      <td>0</td>\n      <td>0</td>\n      <td>0</td>\n      <td>0</td>\n      <td>...</td>\n      <td>40</td>\n      <td>40</td>\n      <td>74</td>\n      <td>84</td>\n      <td>94</td>\n      <td>110</td>\n      <td>110</td>\n      <td>120</td>\n      <td>170</td>\n      <td>174</td>\n    </tr>\n    <tr>\n      <th>1</th>\n      <td>NaN</td>\n      <td>Albania</td>\n      <td>41.153300</td>\n      <td>20.168300</td>\n      <td>0</td>\n      <td>0</td>\n      <td>0</td>\n      <td>0</td>\n      <td>0</td>\n      <td>0</td>\n      <td>...</td>\n      <td>89</td>\n      <td>104</td>\n      <td>123</td>\n      <td>146</td>\n      <td>174</td>\n      <td>186</td>\n      <td>197</td>\n      <td>212</td>\n      <td>223</td>\n      <td>243</td>\n    </tr>\n    <tr>\n      <th>2</th>\n      <td>NaN</td>\n      <td>Algeria</td>\n      <td>28.033900</td>\n      <td>1.659600</td>\n      <td>0</td>\n      <td>0</td>\n      <td>0</td>\n      <td>0</td>\n      <td>0</td>\n      <td>0</td>\n      <td>...</td>\n      <td>201</td>\n      <td>230</td>\n      <td>264</td>\n      <td>302</td>\n      <td>367</td>\n      <td>409</td>\n      <td>454</td>\n      <td>511</td>\n      <td>584</td>\n      <td>716</td>\n    </tr>\n    <tr>\n      <th>3</th>\n      <td>NaN</td>\n      <td>Andorra</td>\n      <td>42.506300</td>\n      <td>1.521800</td>\n      <td>0</td>\n      <td>0</td>\n      <td>0</td>\n      <td>0</td>\n      <td>0</td>\n      <td>0</td>\n      <td>...</td>\n      <td>113</td>\n      <td>133</td>\n      <td>164</td>\n      <td>188</td>\n      <td>224</td>\n      <td>267</td>\n      <td>308</td>\n      <td>334</td>\n      <td>370</td>\n      <td>376</td>\n    </tr>\n    <tr>\n      <th>4</th>\n      <td>NaN</td>\n      <td>Angola</td>\n      <td>-11.202700</td>\n      <td>17.873900</td>\n      <td>0</td>\n      <td>0</td>\n      <td>0</td>\n      <td>0</td>\n      <td>0</td>\n      <td>0</td>\n      <td>...</td>\n      <td>2</td>\n      <td>3</td>\n      <td>3</td>\n      <td>3</td>\n      <td>4</td>\n      <td>4</td>\n      <td>5</td>\n      <td>7</td>\n      <td>7</td>\n      <td>7</td>\n    </tr>\n    <tr>\n      <th>...</th>\n      <td>...</td>\n      <td>...</td>\n      <td>...</td>\n      <td>...</td>\n      <td>...</td>\n      <td>...</td>\n      <td>...</td>\n      <td>...</td>\n      <td>...</td>\n      <td>...</td>\n      <td>...</td>\n      <td>...</td>\n      <td>...</td>\n      <td>...</td>\n      <td>...</td>\n      <td>...</td>\n      <td>...</td>\n      <td>...</td>\n      <td>...</td>\n      <td>...</td>\n      <td>...</td>\n    </tr>\n    <tr>\n      <th>251</th>\n      <td>Turks and Caicos Islands</td>\n      <td>United Kingdom</td>\n      <td>21.694000</td>\n      <td>-71.797900</td>\n      <td>0</td>\n      <td>0</td>\n      <td>0</td>\n      <td>0</td>\n      <td>0</td>\n      <td>0</td>\n      <td>...</td>\n      <td>0</td>\n      <td>0</td>\n      <td>0</td>\n      <td>0</td>\n      <td>0</td>\n      <td>0</td>\n      <td>4</td>\n      <td>4</td>\n      <td>5</td>\n      <td>5</td>\n    </tr>\n    <tr>\n      <th>252</th>\n      <td>NaN</td>\n      <td>MS Zaandam</td>\n      <td>0.000000</td>\n      <td>0.000000</td>\n      <td>0</td>\n      <td>0</td>\n      <td>0</td>\n      <td>0</td>\n      <td>0</td>\n      <td>0</td>\n      <td>...</td>\n      <td>0</td>\n      <td>0</td>\n      <td>0</td>\n      <td>0</td>\n      <td>0</td>\n      <td>0</td>\n      <td>2</td>\n      <td>2</td>\n      <td>2</td>\n      <td>2</td>\n    </tr>\n    <tr>\n      <th>253</th>\n      <td>NaN</td>\n      <td>Botswana</td>\n      <td>-22.328500</td>\n      <td>24.684900</td>\n      <td>0</td>\n      <td>0</td>\n      <td>0</td>\n      <td>0</td>\n      <td>0</td>\n      <td>0</td>\n      <td>...</td>\n      <td>0</td>\n      <td>0</td>\n      <td>0</td>\n      <td>0</td>\n      <td>0</td>\n      <td>0</td>\n      <td>0</td>\n      <td>0</td>\n      <td>3</td>\n      <td>4</td>\n    </tr>\n    <tr>\n      <th>254</th>\n      <td>NaN</td>\n      <td>Burundi</td>\n      <td>-3.373100</td>\n      <td>29.918900</td>\n      <td>0</td>\n      <td>0</td>\n      <td>0</td>\n      <td>0</td>\n      <td>0</td>\n      <td>0</td>\n      <td>...</td>\n      <td>0</td>\n      <td>0</td>\n      <td>0</td>\n      <td>0</td>\n      <td>0</td>\n      <td>0</td>\n      <td>0</td>\n      <td>0</td>\n      <td>0</td>\n      <td>2</td>\n    </tr>\n    <tr>\n      <th>255</th>\n      <td>NaN</td>\n      <td>Sierra Leone</td>\n      <td>8.460555</td>\n      <td>-11.779889</td>\n      <td>0</td>\n      <td>0</td>\n      <td>0</td>\n      <td>0</td>\n      <td>0</td>\n      <td>0</td>\n      <td>...</td>\n      <td>0</td>\n      <td>0</td>\n      <td>0</td>\n      <td>0</td>\n      <td>0</td>\n      <td>0</td>\n      <td>0</td>\n      <td>0</td>\n      <td>0</td>\n      <td>1</td>\n    </tr>\n  </tbody>\n</table>\n<p>256 rows × 74 columns</p>\n</div>"
     },
     "metadata": {},
     "output_type": "execute_result",
     "execution_count": 2
    }
   ],
   "source": [
    "confirmed = pd.read_csv('covid_confirmed.csv').rename(columns={\"Country/Region\": \"Country\"})\n",
    "confirmed"
   ]
  },
  {
   "cell_type": "code",
   "execution_count": 3,
   "metadata": {
    "pycharm": {
     "is_executing": false
    }
   },
   "outputs": [],
   "source": [
    "confirmed = confirmed.drop(['Province/State', 'Lat', 'Long'], axis=1).groupby('Country').sum()\n",
    "deaths = deaths.drop(['Province/State', 'Lat', 'Long'], axis=1).groupby('Country').sum()\n",
    "\n",
    "confirmed = confirmed.filter(countries, axis=0).T\n",
    "deaths = deaths.filter(countries, axis=0).T\n",
    "\n",
    "confirmed = confirmed.rename(columns={\"US\": \"USA\", \"Korea, South\": \"S. Korea\", \"United Kingdom\": \"UK\"})\n",
    "deaths = deaths.rename(columns={\"US\": \"USA\", \"Korea, South\": \"S. Korea\", \"United Kingdom\": \"UK\"})\n",
    "\n",
    "for c in countries2:\n",
    "    confirmed = confirmed.rename(columns={c: f\"{c}_confirmed\"})\n",
    "    deaths = deaths.rename(columns={c: f\"{c}_deaths\"})\n",
    "\n",
    "covid = pd.concat([confirmed, deaths], axis=1)\n",
    "\n",
    "\n",
    "def format_date(string):\n",
    "    arr = string.split('/')\n",
    "    month = int(arr[0])\n",
    "    day = int(arr[1])\n",
    "    year = int(arr[2])\n",
    "    \n",
    "    return f\"20{year:02d}-{month:02d}-{day:02d}\"\n",
    "\n",
    "covid.index = [format_date(s) for s in covid.index]"
   ]
  },
  {
   "cell_type": "code",
   "execution_count": 9,
   "metadata": {},
   "outputs": [],
   "source": [
    "import datetime\n",
    "import requests \n",
    "import json\n",
    "# CRYPTO API SETTINGS\n",
    "COIN_HEADERS =  {\n",
    "    'x-rapidapi-host': \"coingecko.p.rapidapi.com\",\n",
    "    'x-rapidapi-key': \"0e6a8d459emsha4b8121ebc28670p185339jsn88f62da8994f\"\n",
    "    }\n",
    "\n",
    "query_string = {\"vs_currency\":\"usd\",\"days\":\"100000\"}\n",
    "\n",
    "COINS = ['bitcoin', 'ethereum', 'ripple', 'litecoin']\n",
    "\n",
    "coin_dict = {}\n",
    "for c in COINS:\n",
    "    url = f\"https://coingecko.p.rapidapi.com/coins/{c}/market_chart\"\n",
    "    res = requests.request(\"GET\", url, headers=COIN_HEADERS, params=query_string)\n",
    "    data = json.loads(res.text)\n",
    "    for timestamp, price in data['prices']:\n",
    "        date = str(datetime.datetime.fromtimestamp(timestamp/1000))[:10]\n",
    "        date.replace('-', '/')\n",
    "        d = coin_dict.get(date, {})\n",
    "        d[f\"{c}_usd\"] = price\n",
    "        coin_dict[date] = d\n"
   ]
  },
  {
   "cell_type": "code",
   "execution_count": 10,
   "metadata": {},
   "outputs": [],
   "source": [
    "df = pd.DataFrame(coin_dict).T.merge(covid, \n",
    "                                how='outer', \n",
    "                                left_index=True, \n",
    "                                right_index=True).sort_index()[:-1]\n",
    "\n",
    "for c in COINS:\n",
    "    df.insert(len(df.columns), f\"{c}_web\", 0)\n",
    "\n",
    "df.fillna(0)\n",
    "df.index.rename('timestamp')\n",
    "\n",
    "df.to_csv(\"../external_dataset.csv\", index=True)"
   ]
  }
 ],
 "metadata": {
  "kernelspec": {
   "name": "python3",
   "language": "python",
   "display_name": "Python 3"
  },
  "language_info": {
   "codemirror_mode": {
    "name": "ipython",
    "version": 3
   },
   "file_extension": ".py",
   "mimetype": "text/x-python",
   "name": "python",
   "nbconvert_exporter": "python",
   "pygments_lexer": "ipython3",
   "version": "3.6.9"
  }
 },
 "nbformat": 4,
 "nbformat_minor": 4
}